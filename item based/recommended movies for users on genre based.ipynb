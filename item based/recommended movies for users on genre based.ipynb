{
 "cells": [
  {
   "cell_type": "code",
   "execution_count": 1,
   "id": "f7c702ec",
   "metadata": {},
   "outputs": [],
   "source": [
    "import numpy as np\n",
    "import pandas as pd"
   ]
  },
  {
   "cell_type": "code",
   "execution_count": 2,
   "id": "63e2410a",
   "metadata": {},
   "outputs": [
    {
     "data": {
      "text/html": [
       "<div>\n",
       "<style scoped>\n",
       "    .dataframe tbody tr th:only-of-type {\n",
       "        vertical-align: middle;\n",
       "    }\n",
       "\n",
       "    .dataframe tbody tr th {\n",
       "        vertical-align: top;\n",
       "    }\n",
       "\n",
       "    .dataframe thead th {\n",
       "        text-align: right;\n",
       "    }\n",
       "</style>\n",
       "<table border=\"1\" class=\"dataframe\">\n",
       "  <thead>\n",
       "    <tr style=\"text-align: right;\">\n",
       "      <th></th>\n",
       "      <th>movieId</th>\n",
       "      <th>title</th>\n",
       "      <th>genres</th>\n",
       "    </tr>\n",
       "  </thead>\n",
       "  <tbody>\n",
       "    <tr>\n",
       "      <th>0</th>\n",
       "      <td>1</td>\n",
       "      <td>Toy Story (1995)</td>\n",
       "      <td>Adventure|Animation|Children|Comedy|Fantasy</td>\n",
       "    </tr>\n",
       "    <tr>\n",
       "      <th>1</th>\n",
       "      <td>2</td>\n",
       "      <td>Jumanji (1995)</td>\n",
       "      <td>Adventure|Children|Fantasy</td>\n",
       "    </tr>\n",
       "    <tr>\n",
       "      <th>2</th>\n",
       "      <td>3</td>\n",
       "      <td>Grumpier Old Men (1995)</td>\n",
       "      <td>Comedy|Romance</td>\n",
       "    </tr>\n",
       "    <tr>\n",
       "      <th>3</th>\n",
       "      <td>4</td>\n",
       "      <td>Waiting to Exhale (1995)</td>\n",
       "      <td>Comedy|Drama|Romance</td>\n",
       "    </tr>\n",
       "    <tr>\n",
       "      <th>4</th>\n",
       "      <td>5</td>\n",
       "      <td>Father of the Bride Part II (1995)</td>\n",
       "      <td>Comedy</td>\n",
       "    </tr>\n",
       "  </tbody>\n",
       "</table>\n",
       "</div>"
      ],
      "text/plain": [
       "   movieId                               title  \\\n",
       "0        1                    Toy Story (1995)   \n",
       "1        2                      Jumanji (1995)   \n",
       "2        3             Grumpier Old Men (1995)   \n",
       "3        4            Waiting to Exhale (1995)   \n",
       "4        5  Father of the Bride Part II (1995)   \n",
       "\n",
       "                                        genres  \n",
       "0  Adventure|Animation|Children|Comedy|Fantasy  \n",
       "1                   Adventure|Children|Fantasy  \n",
       "2                               Comedy|Romance  \n",
       "3                         Comedy|Drama|Romance  \n",
       "4                                       Comedy  "
      ]
     },
     "execution_count": 2,
     "metadata": {},
     "output_type": "execute_result"
    }
   ],
   "source": [
    "movies=pd.read_csv(\"movies.csv\")\n",
    "ratings=pd.read_csv(\"ratings.csv\")\n",
    "movies.head()"
   ]
  },
  {
   "cell_type": "code",
   "execution_count": 3,
   "id": "3c8be7e3",
   "metadata": {},
   "outputs": [
    {
     "data": {
      "text/plain": [
       "(9742, 3)"
      ]
     },
     "execution_count": 3,
     "metadata": {},
     "output_type": "execute_result"
    }
   ],
   "source": [
    "new_df=pd.merge(ratings,movies,on='movieId').drop(['timestamp'],axis=1)\n",
    "movies.shape"
   ]
  },
  {
   "cell_type": "code",
   "execution_count": 4,
   "id": "c77fff17",
   "metadata": {},
   "outputs": [
    {
     "data": {
      "text/html": [
       "<div>\n",
       "<style scoped>\n",
       "    .dataframe tbody tr th:only-of-type {\n",
       "        vertical-align: middle;\n",
       "    }\n",
       "\n",
       "    .dataframe tbody tr th {\n",
       "        vertical-align: top;\n",
       "    }\n",
       "\n",
       "    .dataframe thead th {\n",
       "        text-align: right;\n",
       "    }\n",
       "</style>\n",
       "<table border=\"1\" class=\"dataframe\">\n",
       "  <thead>\n",
       "    <tr style=\"text-align: right;\">\n",
       "      <th></th>\n",
       "      <th>userId</th>\n",
       "      <th>movieId</th>\n",
       "      <th>rating</th>\n",
       "      <th>title</th>\n",
       "      <th>genres</th>\n",
       "    </tr>\n",
       "  </thead>\n",
       "  <tbody>\n",
       "    <tr>\n",
       "      <th>0</th>\n",
       "      <td>1</td>\n",
       "      <td>1</td>\n",
       "      <td>4.0</td>\n",
       "      <td>Toy Story (1995)</td>\n",
       "      <td>Adventure|Animation|Children|Comedy|Fantasy</td>\n",
       "    </tr>\n",
       "    <tr>\n",
       "      <th>1</th>\n",
       "      <td>5</td>\n",
       "      <td>1</td>\n",
       "      <td>4.0</td>\n",
       "      <td>Toy Story (1995)</td>\n",
       "      <td>Adventure|Animation|Children|Comedy|Fantasy</td>\n",
       "    </tr>\n",
       "    <tr>\n",
       "      <th>2</th>\n",
       "      <td>7</td>\n",
       "      <td>1</td>\n",
       "      <td>4.5</td>\n",
       "      <td>Toy Story (1995)</td>\n",
       "      <td>Adventure|Animation|Children|Comedy|Fantasy</td>\n",
       "    </tr>\n",
       "    <tr>\n",
       "      <th>3</th>\n",
       "      <td>15</td>\n",
       "      <td>1</td>\n",
       "      <td>2.5</td>\n",
       "      <td>Toy Story (1995)</td>\n",
       "      <td>Adventure|Animation|Children|Comedy|Fantasy</td>\n",
       "    </tr>\n",
       "    <tr>\n",
       "      <th>4</th>\n",
       "      <td>17</td>\n",
       "      <td>1</td>\n",
       "      <td>4.5</td>\n",
       "      <td>Toy Story (1995)</td>\n",
       "      <td>Adventure|Animation|Children|Comedy|Fantasy</td>\n",
       "    </tr>\n",
       "    <tr>\n",
       "      <th>5</th>\n",
       "      <td>18</td>\n",
       "      <td>1</td>\n",
       "      <td>3.5</td>\n",
       "      <td>Toy Story (1995)</td>\n",
       "      <td>Adventure|Animation|Children|Comedy|Fantasy</td>\n",
       "    </tr>\n",
       "    <tr>\n",
       "      <th>6</th>\n",
       "      <td>19</td>\n",
       "      <td>1</td>\n",
       "      <td>4.0</td>\n",
       "      <td>Toy Story (1995)</td>\n",
       "      <td>Adventure|Animation|Children|Comedy|Fantasy</td>\n",
       "    </tr>\n",
       "    <tr>\n",
       "      <th>7</th>\n",
       "      <td>21</td>\n",
       "      <td>1</td>\n",
       "      <td>3.5</td>\n",
       "      <td>Toy Story (1995)</td>\n",
       "      <td>Adventure|Animation|Children|Comedy|Fantasy</td>\n",
       "    </tr>\n",
       "    <tr>\n",
       "      <th>8</th>\n",
       "      <td>27</td>\n",
       "      <td>1</td>\n",
       "      <td>3.0</td>\n",
       "      <td>Toy Story (1995)</td>\n",
       "      <td>Adventure|Animation|Children|Comedy|Fantasy</td>\n",
       "    </tr>\n",
       "    <tr>\n",
       "      <th>9</th>\n",
       "      <td>31</td>\n",
       "      <td>1</td>\n",
       "      <td>5.0</td>\n",
       "      <td>Toy Story (1995)</td>\n",
       "      <td>Adventure|Animation|Children|Comedy|Fantasy</td>\n",
       "    </tr>\n",
       "    <tr>\n",
       "      <th>10</th>\n",
       "      <td>32</td>\n",
       "      <td>1</td>\n",
       "      <td>3.0</td>\n",
       "      <td>Toy Story (1995)</td>\n",
       "      <td>Adventure|Animation|Children|Comedy|Fantasy</td>\n",
       "    </tr>\n",
       "    <tr>\n",
       "      <th>11</th>\n",
       "      <td>33</td>\n",
       "      <td>1</td>\n",
       "      <td>3.0</td>\n",
       "      <td>Toy Story (1995)</td>\n",
       "      <td>Adventure|Animation|Children|Comedy|Fantasy</td>\n",
       "    </tr>\n",
       "    <tr>\n",
       "      <th>12</th>\n",
       "      <td>40</td>\n",
       "      <td>1</td>\n",
       "      <td>5.0</td>\n",
       "      <td>Toy Story (1995)</td>\n",
       "      <td>Adventure|Animation|Children|Comedy|Fantasy</td>\n",
       "    </tr>\n",
       "    <tr>\n",
       "      <th>13</th>\n",
       "      <td>43</td>\n",
       "      <td>1</td>\n",
       "      <td>5.0</td>\n",
       "      <td>Toy Story (1995)</td>\n",
       "      <td>Adventure|Animation|Children|Comedy|Fantasy</td>\n",
       "    </tr>\n",
       "    <tr>\n",
       "      <th>14</th>\n",
       "      <td>44</td>\n",
       "      <td>1</td>\n",
       "      <td>3.0</td>\n",
       "      <td>Toy Story (1995)</td>\n",
       "      <td>Adventure|Animation|Children|Comedy|Fantasy</td>\n",
       "    </tr>\n",
       "    <tr>\n",
       "      <th>15</th>\n",
       "      <td>45</td>\n",
       "      <td>1</td>\n",
       "      <td>4.0</td>\n",
       "      <td>Toy Story (1995)</td>\n",
       "      <td>Adventure|Animation|Children|Comedy|Fantasy</td>\n",
       "    </tr>\n",
       "    <tr>\n",
       "      <th>16</th>\n",
       "      <td>46</td>\n",
       "      <td>1</td>\n",
       "      <td>5.0</td>\n",
       "      <td>Toy Story (1995)</td>\n",
       "      <td>Adventure|Animation|Children|Comedy|Fantasy</td>\n",
       "    </tr>\n",
       "    <tr>\n",
       "      <th>17</th>\n",
       "      <td>50</td>\n",
       "      <td>1</td>\n",
       "      <td>3.0</td>\n",
       "      <td>Toy Story (1995)</td>\n",
       "      <td>Adventure|Animation|Children|Comedy|Fantasy</td>\n",
       "    </tr>\n",
       "    <tr>\n",
       "      <th>18</th>\n",
       "      <td>54</td>\n",
       "      <td>1</td>\n",
       "      <td>3.0</td>\n",
       "      <td>Toy Story (1995)</td>\n",
       "      <td>Adventure|Animation|Children|Comedy|Fantasy</td>\n",
       "    </tr>\n",
       "    <tr>\n",
       "      <th>19</th>\n",
       "      <td>57</td>\n",
       "      <td>1</td>\n",
       "      <td>5.0</td>\n",
       "      <td>Toy Story (1995)</td>\n",
       "      <td>Adventure|Animation|Children|Comedy|Fantasy</td>\n",
       "    </tr>\n",
       "  </tbody>\n",
       "</table>\n",
       "</div>"
      ],
      "text/plain": [
       "    userId  movieId  rating             title  \\\n",
       "0        1        1     4.0  Toy Story (1995)   \n",
       "1        5        1     4.0  Toy Story (1995)   \n",
       "2        7        1     4.5  Toy Story (1995)   \n",
       "3       15        1     2.5  Toy Story (1995)   \n",
       "4       17        1     4.5  Toy Story (1995)   \n",
       "5       18        1     3.5  Toy Story (1995)   \n",
       "6       19        1     4.0  Toy Story (1995)   \n",
       "7       21        1     3.5  Toy Story (1995)   \n",
       "8       27        1     3.0  Toy Story (1995)   \n",
       "9       31        1     5.0  Toy Story (1995)   \n",
       "10      32        1     3.0  Toy Story (1995)   \n",
       "11      33        1     3.0  Toy Story (1995)   \n",
       "12      40        1     5.0  Toy Story (1995)   \n",
       "13      43        1     5.0  Toy Story (1995)   \n",
       "14      44        1     3.0  Toy Story (1995)   \n",
       "15      45        1     4.0  Toy Story (1995)   \n",
       "16      46        1     5.0  Toy Story (1995)   \n",
       "17      50        1     3.0  Toy Story (1995)   \n",
       "18      54        1     3.0  Toy Story (1995)   \n",
       "19      57        1     5.0  Toy Story (1995)   \n",
       "\n",
       "                                         genres  \n",
       "0   Adventure|Animation|Children|Comedy|Fantasy  \n",
       "1   Adventure|Animation|Children|Comedy|Fantasy  \n",
       "2   Adventure|Animation|Children|Comedy|Fantasy  \n",
       "3   Adventure|Animation|Children|Comedy|Fantasy  \n",
       "4   Adventure|Animation|Children|Comedy|Fantasy  \n",
       "5   Adventure|Animation|Children|Comedy|Fantasy  \n",
       "6   Adventure|Animation|Children|Comedy|Fantasy  \n",
       "7   Adventure|Animation|Children|Comedy|Fantasy  \n",
       "8   Adventure|Animation|Children|Comedy|Fantasy  \n",
       "9   Adventure|Animation|Children|Comedy|Fantasy  \n",
       "10  Adventure|Animation|Children|Comedy|Fantasy  \n",
       "11  Adventure|Animation|Children|Comedy|Fantasy  \n",
       "12  Adventure|Animation|Children|Comedy|Fantasy  \n",
       "13  Adventure|Animation|Children|Comedy|Fantasy  \n",
       "14  Adventure|Animation|Children|Comedy|Fantasy  \n",
       "15  Adventure|Animation|Children|Comedy|Fantasy  \n",
       "16  Adventure|Animation|Children|Comedy|Fantasy  \n",
       "17  Adventure|Animation|Children|Comedy|Fantasy  \n",
       "18  Adventure|Animation|Children|Comedy|Fantasy  \n",
       "19  Adventure|Animation|Children|Comedy|Fantasy  "
      ]
     },
     "execution_count": 4,
     "metadata": {},
     "output_type": "execute_result"
    }
   ],
   "source": [
    "new_df.head(20)"
   ]
  },
  {
   "cell_type": "code",
   "execution_count": 5,
   "id": "df40b15d",
   "metadata": {},
   "outputs": [
    {
     "data": {
      "text/plain": [
       "(100836, 5)"
      ]
     },
     "execution_count": 5,
     "metadata": {},
     "output_type": "execute_result"
    }
   ],
   "source": [
    "new_df.shape"
   ]
  },
  {
   "cell_type": "code",
   "execution_count": 6,
   "id": "5a5a68c2",
   "metadata": {},
   "outputs": [
    {
     "data": {
      "text/html": [
       "<div>\n",
       "<style scoped>\n",
       "    .dataframe tbody tr th:only-of-type {\n",
       "        vertical-align: middle;\n",
       "    }\n",
       "\n",
       "    .dataframe tbody tr th {\n",
       "        vertical-align: top;\n",
       "    }\n",
       "\n",
       "    .dataframe thead th {\n",
       "        text-align: right;\n",
       "    }\n",
       "</style>\n",
       "<table border=\"1\" class=\"dataframe\">\n",
       "  <thead>\n",
       "    <tr style=\"text-align: right;\">\n",
       "      <th></th>\n",
       "      <th>movieId</th>\n",
       "      <th>title</th>\n",
       "      <th>genres</th>\n",
       "    </tr>\n",
       "  </thead>\n",
       "  <tbody>\n",
       "    <tr>\n",
       "      <th>0</th>\n",
       "      <td>1</td>\n",
       "      <td>Toy Story (1995)</td>\n",
       "      <td>Adventure|Animation|Children|Comedy|Fantasy</td>\n",
       "    </tr>\n",
       "    <tr>\n",
       "      <th>1</th>\n",
       "      <td>2</td>\n",
       "      <td>Jumanji (1995)</td>\n",
       "      <td>Adventure|Children|Fantasy</td>\n",
       "    </tr>\n",
       "    <tr>\n",
       "      <th>2</th>\n",
       "      <td>3</td>\n",
       "      <td>Grumpier Old Men (1995)</td>\n",
       "      <td>Comedy|Romance</td>\n",
       "    </tr>\n",
       "    <tr>\n",
       "      <th>3</th>\n",
       "      <td>4</td>\n",
       "      <td>Waiting to Exhale (1995)</td>\n",
       "      <td>Comedy|Drama|Romance</td>\n",
       "    </tr>\n",
       "    <tr>\n",
       "      <th>4</th>\n",
       "      <td>5</td>\n",
       "      <td>Father of the Bride Part II (1995)</td>\n",
       "      <td>Comedy</td>\n",
       "    </tr>\n",
       "  </tbody>\n",
       "</table>\n",
       "</div>"
      ],
      "text/plain": [
       "   movieId                               title  \\\n",
       "0        1                    Toy Story (1995)   \n",
       "1        2                      Jumanji (1995)   \n",
       "2        3             Grumpier Old Men (1995)   \n",
       "3        4            Waiting to Exhale (1995)   \n",
       "4        5  Father of the Bride Part II (1995)   \n",
       "\n",
       "                                        genres  \n",
       "0  Adventure|Animation|Children|Comedy|Fantasy  \n",
       "1                   Adventure|Children|Fantasy  \n",
       "2                               Comedy|Romance  \n",
       "3                         Comedy|Drama|Romance  \n",
       "4                                       Comedy  "
      ]
     },
     "execution_count": 6,
     "metadata": {},
     "output_type": "execute_result"
    }
   ],
   "source": [
    "movies.head()"
   ]
  },
  {
   "cell_type": "code",
   "execution_count": 7,
   "id": "d46be50b",
   "metadata": {},
   "outputs": [
    {
     "data": {
      "text/plain": [
       "414    2698\n",
       "599    2478\n",
       "474    2108\n",
       "448    1864\n",
       "274    1346\n",
       "       ... \n",
       "431      20\n",
       "194      20\n",
       "257      20\n",
       "207      20\n",
       "189      20\n",
       "Name: userId, Length: 610, dtype: int64"
      ]
     },
     "execution_count": 7,
     "metadata": {},
     "output_type": "execute_result"
    }
   ],
   "source": [
    "v = new_df.userId.value_counts()\n",
    "v_df=new_df[new_df.userId.isin(v.index[v.gt(10)])]\n",
    "v"
   ]
  },
  {
   "cell_type": "code",
   "execution_count": 8,
   "id": "846ed0df",
   "metadata": {},
   "outputs": [
    {
     "data": {
      "text/plain": [
       "(100836, 5)"
      ]
     },
     "execution_count": 8,
     "metadata": {},
     "output_type": "execute_result"
    }
   ],
   "source": [
    "v_df.shape"
   ]
  },
  {
   "cell_type": "code",
   "execution_count": 9,
   "id": "f982b423",
   "metadata": {},
   "outputs": [
    {
     "data": {
      "text/plain": [
       "414    2698\n",
       "599    2478\n",
       "474    2108\n",
       "448    1864\n",
       "274    1346\n",
       "       ... \n",
       "431      20\n",
       "194      20\n",
       "257      20\n",
       "207      20\n",
       "189      20\n",
       "Name: userId, Length: 610, dtype: int64"
      ]
     },
     "execution_count": 9,
     "metadata": {},
     "output_type": "execute_result"
    }
   ],
   "source": [
    "v_df.userId.value_counts()"
   ]
  },
  {
   "cell_type": "code",
   "execution_count": 10,
   "id": "480c4cae",
   "metadata": {},
   "outputs": [],
   "source": [
    "## for userId 194\n",
    "## taking his top three movies on the basis of his ratings"
   ]
  },
  {
   "cell_type": "code",
   "execution_count": 11,
   "id": "77b81ecd",
   "metadata": {},
   "outputs": [
    {
     "data": {
      "text/html": [
       "<div>\n",
       "<style scoped>\n",
       "    .dataframe tbody tr th:only-of-type {\n",
       "        vertical-align: middle;\n",
       "    }\n",
       "\n",
       "    .dataframe tbody tr th {\n",
       "        vertical-align: top;\n",
       "    }\n",
       "\n",
       "    .dataframe thead th {\n",
       "        text-align: right;\n",
       "    }\n",
       "</style>\n",
       "<table border=\"1\" class=\"dataframe\">\n",
       "  <thead>\n",
       "    <tr style=\"text-align: right;\">\n",
       "      <th></th>\n",
       "      <th>userId</th>\n",
       "      <th>movieId</th>\n",
       "      <th>rating</th>\n",
       "      <th>title</th>\n",
       "      <th>genres</th>\n",
       "    </tr>\n",
       "  </thead>\n",
       "  <tbody>\n",
       "    <tr>\n",
       "      <th>51570</th>\n",
       "      <td>431</td>\n",
       "      <td>555</td>\n",
       "      <td>5.0</td>\n",
       "      <td>True Romance (1993)</td>\n",
       "      <td>Crime|Thriller</td>\n",
       "    </tr>\n",
       "    <tr>\n",
       "      <th>70028</th>\n",
       "      <td>431</td>\n",
       "      <td>1233</td>\n",
       "      <td>4.5</td>\n",
       "      <td>Boot, Das (Boat, The) (1981)</td>\n",
       "      <td>Action|Drama|War</td>\n",
       "    </tr>\n",
       "    <tr>\n",
       "      <th>8989</th>\n",
       "      <td>431</td>\n",
       "      <td>1278</td>\n",
       "      <td>4.0</td>\n",
       "      <td>Young Frankenstein (1974)</td>\n",
       "      <td>Comedy|Fantasy</td>\n",
       "    </tr>\n",
       "    <tr>\n",
       "      <th>10056</th>\n",
       "      <td>431</td>\n",
       "      <td>1625</td>\n",
       "      <td>4.0</td>\n",
       "      <td>Game, The (1997)</td>\n",
       "      <td>Drama|Mystery|Thriller</td>\n",
       "    </tr>\n",
       "    <tr>\n",
       "      <th>50737</th>\n",
       "      <td>431</td>\n",
       "      <td>1234</td>\n",
       "      <td>4.0</td>\n",
       "      <td>Sting, The (1973)</td>\n",
       "      <td>Comedy|Crime</td>\n",
       "    </tr>\n",
       "    <tr>\n",
       "      <th>3819</th>\n",
       "      <td>431</td>\n",
       "      <td>543</td>\n",
       "      <td>3.5</td>\n",
       "      <td>So I Married an Axe Murderer (1993)</td>\n",
       "      <td>Comedy|Romance|Thriller</td>\n",
       "    </tr>\n",
       "    <tr>\n",
       "      <th>64910</th>\n",
       "      <td>431</td>\n",
       "      <td>3948</td>\n",
       "      <td>3.0</td>\n",
       "      <td>Meet the Parents (2000)</td>\n",
       "      <td>Comedy</td>\n",
       "    </tr>\n",
       "    <tr>\n",
       "      <th>58482</th>\n",
       "      <td>431</td>\n",
       "      <td>903</td>\n",
       "      <td>3.0</td>\n",
       "      <td>Vertigo (1958)</td>\n",
       "      <td>Drama|Mystery|Romance|Thriller</td>\n",
       "    </tr>\n",
       "    <tr>\n",
       "      <th>1193</th>\n",
       "      <td>431</td>\n",
       "      <td>163</td>\n",
       "      <td>3.0</td>\n",
       "      <td>Desperado (1995)</td>\n",
       "      <td>Action|Romance|Western</td>\n",
       "    </tr>\n",
       "    <tr>\n",
       "      <th>12216</th>\n",
       "      <td>431</td>\n",
       "      <td>2406</td>\n",
       "      <td>3.0</td>\n",
       "      <td>Romancing the Stone (1984)</td>\n",
       "      <td>Action|Adventure|Comedy|Romance</td>\n",
       "    </tr>\n",
       "    <tr>\n",
       "      <th>32390</th>\n",
       "      <td>431</td>\n",
       "      <td>485</td>\n",
       "      <td>2.5</td>\n",
       "      <td>Last Action Hero (1993)</td>\n",
       "      <td>Action|Adventure|Comedy|Fantasy</td>\n",
       "    </tr>\n",
       "    <tr>\n",
       "      <th>59195</th>\n",
       "      <td>431</td>\n",
       "      <td>1376</td>\n",
       "      <td>2.5</td>\n",
       "      <td>Star Trek IV: The Voyage Home (1986)</td>\n",
       "      <td>Adventure|Comedy|Sci-Fi</td>\n",
       "    </tr>\n",
       "    <tr>\n",
       "      <th>3868</th>\n",
       "      <td>431</td>\n",
       "      <td>552</td>\n",
       "      <td>2.5</td>\n",
       "      <td>Three Musketeers, The (1993)</td>\n",
       "      <td>Action|Adventure|Comedy|Romance</td>\n",
       "    </tr>\n",
       "    <tr>\n",
       "      <th>32288</th>\n",
       "      <td>431</td>\n",
       "      <td>466</td>\n",
       "      <td>2.0</td>\n",
       "      <td>Hot Shots! Part Deux (1993)</td>\n",
       "      <td>Action|Comedy|War</td>\n",
       "    </tr>\n",
       "    <tr>\n",
       "      <th>45341</th>\n",
       "      <td>431</td>\n",
       "      <td>172</td>\n",
       "      <td>2.0</td>\n",
       "      <td>Johnny Mnemonic (1995)</td>\n",
       "      <td>Action|Sci-Fi|Thriller</td>\n",
       "    </tr>\n",
       "    <tr>\n",
       "      <th>44650</th>\n",
       "      <td>431</td>\n",
       "      <td>1639</td>\n",
       "      <td>1.5</td>\n",
       "      <td>Chasing Amy (1997)</td>\n",
       "      <td>Comedy|Drama|Romance</td>\n",
       "    </tr>\n",
       "    <tr>\n",
       "      <th>64537</th>\n",
       "      <td>431</td>\n",
       "      <td>2006</td>\n",
       "      <td>1.5</td>\n",
       "      <td>Mask of Zorro, The (1998)</td>\n",
       "      <td>Action|Comedy|Romance</td>\n",
       "    </tr>\n",
       "    <tr>\n",
       "      <th>33418</th>\n",
       "      <td>431</td>\n",
       "      <td>802</td>\n",
       "      <td>1.5</td>\n",
       "      <td>Phenomenon (1996)</td>\n",
       "      <td>Drama|Romance</td>\n",
       "    </tr>\n",
       "    <tr>\n",
       "      <th>28800</th>\n",
       "      <td>431</td>\n",
       "      <td>158</td>\n",
       "      <td>1.0</td>\n",
       "      <td>Casper (1995)</td>\n",
       "      <td>Adventure|Children</td>\n",
       "    </tr>\n",
       "    <tr>\n",
       "      <th>31981</th>\n",
       "      <td>431</td>\n",
       "      <td>435</td>\n",
       "      <td>0.5</td>\n",
       "      <td>Coneheads (1993)</td>\n",
       "      <td>Comedy|Sci-Fi</td>\n",
       "    </tr>\n",
       "  </tbody>\n",
       "</table>\n",
       "</div>"
      ],
      "text/plain": [
       "       userId  movieId  rating                                 title  \\\n",
       "51570     431      555     5.0                   True Romance (1993)   \n",
       "70028     431     1233     4.5          Boot, Das (Boat, The) (1981)   \n",
       "8989      431     1278     4.0             Young Frankenstein (1974)   \n",
       "10056     431     1625     4.0                      Game, The (1997)   \n",
       "50737     431     1234     4.0                     Sting, The (1973)   \n",
       "3819      431      543     3.5   So I Married an Axe Murderer (1993)   \n",
       "64910     431     3948     3.0               Meet the Parents (2000)   \n",
       "58482     431      903     3.0                        Vertigo (1958)   \n",
       "1193      431      163     3.0                      Desperado (1995)   \n",
       "12216     431     2406     3.0            Romancing the Stone (1984)   \n",
       "32390     431      485     2.5               Last Action Hero (1993)   \n",
       "59195     431     1376     2.5  Star Trek IV: The Voyage Home (1986)   \n",
       "3868      431      552     2.5          Three Musketeers, The (1993)   \n",
       "32288     431      466     2.0           Hot Shots! Part Deux (1993)   \n",
       "45341     431      172     2.0                Johnny Mnemonic (1995)   \n",
       "44650     431     1639     1.5                    Chasing Amy (1997)   \n",
       "64537     431     2006     1.5             Mask of Zorro, The (1998)   \n",
       "33418     431      802     1.5                     Phenomenon (1996)   \n",
       "28800     431      158     1.0                         Casper (1995)   \n",
       "31981     431      435     0.5                      Coneheads (1993)   \n",
       "\n",
       "                                genres  \n",
       "51570                   Crime|Thriller  \n",
       "70028                 Action|Drama|War  \n",
       "8989                    Comedy|Fantasy  \n",
       "10056           Drama|Mystery|Thriller  \n",
       "50737                     Comedy|Crime  \n",
       "3819           Comedy|Romance|Thriller  \n",
       "64910                           Comedy  \n",
       "58482   Drama|Mystery|Romance|Thriller  \n",
       "1193            Action|Romance|Western  \n",
       "12216  Action|Adventure|Comedy|Romance  \n",
       "32390  Action|Adventure|Comedy|Fantasy  \n",
       "59195          Adventure|Comedy|Sci-Fi  \n",
       "3868   Action|Adventure|Comedy|Romance  \n",
       "32288                Action|Comedy|War  \n",
       "45341           Action|Sci-Fi|Thriller  \n",
       "44650             Comedy|Drama|Romance  \n",
       "64537            Action|Comedy|Romance  \n",
       "33418                    Drama|Romance  \n",
       "28800               Adventure|Children  \n",
       "31981                    Comedy|Sci-Fi  "
      ]
     },
     "execution_count": 11,
     "metadata": {},
     "output_type": "execute_result"
    }
   ],
   "source": [
    "df=v_df.loc[new_df['userId']==431]\n",
    "sdf=df.sort_values('rating',ascending=False)\n",
    "sdf.head(20)\n",
    "    "
   ]
  },
  {
   "cell_type": "code",
   "execution_count": 12,
   "id": "5bff6802",
   "metadata": {},
   "outputs": [
    {
     "data": {
      "text/html": [
       "<div>\n",
       "<style scoped>\n",
       "    .dataframe tbody tr th:only-of-type {\n",
       "        vertical-align: middle;\n",
       "    }\n",
       "\n",
       "    .dataframe tbody tr th {\n",
       "        vertical-align: top;\n",
       "    }\n",
       "\n",
       "    .dataframe thead th {\n",
       "        text-align: right;\n",
       "    }\n",
       "</style>\n",
       "<table border=\"1\" class=\"dataframe\">\n",
       "  <thead>\n",
       "    <tr style=\"text-align: right;\">\n",
       "      <th></th>\n",
       "      <th>userId</th>\n",
       "      <th>movieId</th>\n",
       "      <th>rating</th>\n",
       "      <th>title</th>\n",
       "      <th>genres</th>\n",
       "    </tr>\n",
       "  </thead>\n",
       "  <tbody>\n",
       "    <tr>\n",
       "      <th>51570</th>\n",
       "      <td>431</td>\n",
       "      <td>555</td>\n",
       "      <td>5.0</td>\n",
       "      <td>True Romance (1993)</td>\n",
       "      <td>Crime|Thriller</td>\n",
       "    </tr>\n",
       "    <tr>\n",
       "      <th>70028</th>\n",
       "      <td>431</td>\n",
       "      <td>1233</td>\n",
       "      <td>4.5</td>\n",
       "      <td>Boot, Das (Boat, The) (1981)</td>\n",
       "      <td>Action|Drama|War</td>\n",
       "    </tr>\n",
       "    <tr>\n",
       "      <th>8989</th>\n",
       "      <td>431</td>\n",
       "      <td>1278</td>\n",
       "      <td>4.0</td>\n",
       "      <td>Young Frankenstein (1974)</td>\n",
       "      <td>Comedy|Fantasy</td>\n",
       "    </tr>\n",
       "    <tr>\n",
       "      <th>10056</th>\n",
       "      <td>431</td>\n",
       "      <td>1625</td>\n",
       "      <td>4.0</td>\n",
       "      <td>Game, The (1997)</td>\n",
       "      <td>Drama|Mystery|Thriller</td>\n",
       "    </tr>\n",
       "    <tr>\n",
       "      <th>50737</th>\n",
       "      <td>431</td>\n",
       "      <td>1234</td>\n",
       "      <td>4.0</td>\n",
       "      <td>Sting, The (1973)</td>\n",
       "      <td>Comedy|Crime</td>\n",
       "    </tr>\n",
       "  </tbody>\n",
       "</table>\n",
       "</div>"
      ],
      "text/plain": [
       "       userId  movieId  rating                         title  \\\n",
       "51570     431      555     5.0           True Romance (1993)   \n",
       "70028     431     1233     4.5  Boot, Das (Boat, The) (1981)   \n",
       "8989      431     1278     4.0     Young Frankenstein (1974)   \n",
       "10056     431     1625     4.0              Game, The (1997)   \n",
       "50737     431     1234     4.0             Sting, The (1973)   \n",
       "\n",
       "                       genres  \n",
       "51570          Crime|Thriller  \n",
       "70028        Action|Drama|War  \n",
       "8989           Comedy|Fantasy  \n",
       "10056  Drama|Mystery|Thriller  \n",
       "50737            Comedy|Crime  "
      ]
     },
     "execution_count": 12,
     "metadata": {},
     "output_type": "execute_result"
    }
   ],
   "source": [
    "x_df=sdf[0:5]\n",
    "x_df.head()"
   ]
  },
  {
   "cell_type": "code",
   "execution_count": 13,
   "id": "44a89999",
   "metadata": {},
   "outputs": [],
   "source": [
    "z_df=pd.concat([sdf,x_df,x_df]).drop_duplicates(keep=False)\n",
    "z_df.drop(['userId','rating'],axis=1,inplace=True)\n"
   ]
  },
  {
   "cell_type": "code",
   "execution_count": 14,
   "id": "e82f464c",
   "metadata": {},
   "outputs": [],
   "source": [
    "movies_df=pd.concat([movies,z_df,z_df]).drop_duplicates(keep=False)"
   ]
  },
  {
   "cell_type": "code",
   "execution_count": 15,
   "id": "d27d373c",
   "metadata": {},
   "outputs": [
    {
     "data": {
      "text/plain": [
       "(9727, 3)"
      ]
     },
     "execution_count": 15,
     "metadata": {},
     "output_type": "execute_result"
    }
   ],
   "source": [
    "movies_df.shape"
   ]
  },
  {
   "cell_type": "code",
   "execution_count": 16,
   "id": "e46d3575",
   "metadata": {},
   "outputs": [
    {
     "name": "stderr",
     "output_type": "stream",
     "text": [
      "C:\\Users\\agraw\\AppData\\Local\\Temp/ipykernel_2808/1162253944.py:1: FutureWarning: The default value of regex will change from True to False in a future version. In addition, single character regular expressions will *not* be treated as literal strings when regex=True.\n",
      "  movies_df['genres']=movies_df['genres'].str.replace('|',' ')\n"
     ]
    }
   ],
   "source": [
    "movies_df['genres']=movies_df['genres'].str.replace('|',' ')   "
   ]
  },
  {
   "cell_type": "code",
   "execution_count": 17,
   "id": "f06e36d7",
   "metadata": {},
   "outputs": [
    {
     "data": {
      "text/plain": [
       "(9693, 3)"
      ]
     },
     "execution_count": 17,
     "metadata": {},
     "output_type": "execute_result"
    }
   ],
   "source": [
    "movies_df['genres']=movies_df['genres'].apply(lambda x:x.lower())\n",
    "movies_df = movies_df[~movies_df.genres.str.contains(\"no genres listed\", na=False)]\n",
    "movies_df['genres']=movies_df['genres'].str.replace('-',' ')\n",
    "movies_df.shape"
   ]
  },
  {
   "cell_type": "code",
   "execution_count": 18,
   "id": "f9861abe",
   "metadata": {},
   "outputs": [],
   "source": [
    "from sklearn.feature_extraction.text import CountVectorizer\n",
    "cv = CountVectorizer(max_features=5000,stop_words='english')"
   ]
  },
  {
   "cell_type": "code",
   "execution_count": 19,
   "id": "642bf430",
   "metadata": {},
   "outputs": [],
   "source": [
    "vectors=cv.fit_transform(movies['genres']).toarray()\n",
    "from sklearn.metrics.pairwise import cosine_similarity"
   ]
  },
  {
   "cell_type": "code",
   "execution_count": 34,
   "id": "ec9a1604",
   "metadata": {},
   "outputs": [
    {
     "data": {
      "text/plain": [
       "array([[0, 1, 1, ..., 0, 0, 0],\n",
       "       [0, 1, 0, ..., 0, 0, 0],\n",
       "       [0, 0, 0, ..., 0, 0, 0],\n",
       "       ...,\n",
       "       [0, 0, 0, ..., 0, 0, 0],\n",
       "       [1, 0, 1, ..., 0, 0, 0],\n",
       "       [0, 0, 0, ..., 0, 0, 0]], dtype=int64)"
      ]
     },
     "execution_count": 34,
     "metadata": {},
     "output_type": "execute_result"
    }
   ],
   "source": [
    "vectors"
   ]
  },
  {
   "cell_type": "code",
   "execution_count": 35,
   "id": "4beca850",
   "metadata": {},
   "outputs": [
    {
     "data": {
      "text/plain": [
       "array([[1.        , 0.77459667, 0.31622777, ..., 0.        , 0.31622777,\n",
       "        0.4472136 ],\n",
       "       [0.77459667, 1.        , 0.        , ..., 0.        , 0.        ,\n",
       "        0.        ],\n",
       "       [0.31622777, 0.        , 1.        , ..., 0.        , 0.        ,\n",
       "        0.70710678],\n",
       "       ...,\n",
       "       [0.        , 0.        , 0.        , ..., 1.        , 0.        ,\n",
       "        0.        ],\n",
       "       [0.31622777, 0.        , 0.        , ..., 0.        , 1.        ,\n",
       "        0.        ],\n",
       "       [0.4472136 , 0.        , 0.70710678, ..., 0.        , 0.        ,\n",
       "        1.        ]])"
      ]
     },
     "execution_count": 35,
     "metadata": {},
     "output_type": "execute_result"
    }
   ],
   "source": [
    "similarity=cosine_similarity(vectors)\n",
    "similarity"
   ]
  },
  {
   "cell_type": "code",
   "execution_count": 22,
   "id": "03261365",
   "metadata": {},
   "outputs": [],
   "source": [
    "def recommend(movie):\n",
    "    movie_index=movies[movies['title']==movie].index[0]\n",
    "    distances=similarity[movie_index]\n",
    "    movie_list=sorted(list(enumerate(distances)),reverse=True, key =lambda x:x[1])[0:4]\n",
    "    for i in movie_list:\n",
    "        print(movies.iloc[i[0]].title,movies.iloc[i[0]].genres,i[1])\n",
    "        \n",
    "    return"
   ]
  },
  {
   "cell_type": "code",
   "execution_count": 23,
   "id": "d9620803",
   "metadata": {},
   "outputs": [
    {
     "name": "stdout",
     "output_type": "stream",
     "text": [
      "Romeo Is Bleeding (1993) Crime|Thriller 0.9999999999999998\n",
      "True Romance (1993) Crime|Thriller 0.9999999999999998\n",
      "Escort, The (Scorta, La) (1993) Crime|Thriller 0.9999999999999998\n",
      "Heaven's Prisoners (1996) Crime|Thriller 0.9999999999999998\n",
      "Braveheart (1995) Action|Drama|War 1.0000000000000002\n",
      "Apocalypse Now (1979) Action|Drama|War 1.0000000000000002\n",
      "Boot, Das (Boat, The) (1981) Action|Drama|War 1.0000000000000002\n",
      "All Quiet on the Western Front (1930) Action|Drama|War 1.0000000000000002\n",
      "Reckless (1995) Comedy|Fantasy 0.9999999999999998\n",
      "Drop Dead Fred (1991) Comedy|Fantasy 0.9999999999999998\n",
      "Young Frankenstein (1974) Comedy|Fantasy 0.9999999999999998\n",
      "Devil and Max Devlin, The (1981) Comedy|Fantasy 0.9999999999999998\n",
      "Client, The (1994) Drama|Mystery|Thriller 1.0000000000000002\n",
      "39 Steps, The (1935) Drama|Mystery|Thriller 1.0000000000000002\n",
      "Game, The (1997) Drama|Mystery|Thriller 1.0000000000000002\n",
      "The Devil's Advocate (1997) Drama|Mystery|Thriller 1.0000000000000002\n",
      "Don't Be a Menace to South Central While Drinking Your Juice in the Hood (1996) Comedy|Crime 0.9999999999999998\n",
      "Striptease (1996) Comedy|Crime 0.9999999999999998\n",
      "Carpool (1996) Comedy|Crime 0.9999999999999998\n",
      "Some Like It Hot (1959) Comedy|Crime 0.9999999999999998\n"
     ]
    }
   ],
   "source": [
    "for i in x_df['title']:\n",
    "    recommend(i)"
   ]
  },
  {
   "cell_type": "code",
   "execution_count": 24,
   "id": "157544b8",
   "metadata": {},
   "outputs": [
    {
     "data": {
      "text/plain": [
       "486"
      ]
     },
     "execution_count": 24,
     "metadata": {},
     "output_type": "execute_result"
    }
   ],
   "source": [
    "movie_index=movies[movies['title']=='True Romance (1993)'].index[0]\n",
    "movie_index"
   ]
  },
  {
   "cell_type": "code",
   "execution_count": 25,
   "id": "c41d46f6",
   "metadata": {},
   "outputs": [
    {
     "data": {
      "text/plain": [
       "'True Romance (1993)'"
      ]
     },
     "execution_count": 25,
     "metadata": {},
     "output_type": "execute_result"
    }
   ],
   "source": [
    "movies.iloc[486].title"
   ]
  },
  {
   "cell_type": "code",
   "execution_count": 26,
   "id": "5fc06983",
   "metadata": {},
   "outputs": [
    {
     "data": {
      "text/plain": [
       "array([0., 0., 0., ..., 0., 0., 0.])"
      ]
     },
     "execution_count": 26,
     "metadata": {},
     "output_type": "execute_result"
    }
   ],
   "source": [
    "distances=similarity[486]\n",
    "distances"
   ]
  },
  {
   "cell_type": "code",
   "execution_count": 27,
   "id": "949ce39b",
   "metadata": {},
   "outputs": [
    {
     "data": {
      "text/plain": [
       "[(456, 0.9999999999999998),\n",
       " (486, 0.9999999999999998),\n",
       " (499, 0.9999999999999998),\n",
       " (591, 0.9999999999999998)]"
      ]
     },
     "execution_count": 27,
     "metadata": {},
     "output_type": "execute_result"
    }
   ],
   "source": [
    "movie_lists=sorted(list(enumerate(distances)),reverse=True, key =lambda x:x[1])[0:4]\n",
    "movie_lists"
   ]
  },
  {
   "cell_type": "code",
   "execution_count": 28,
   "id": "580db9c8",
   "metadata": {},
   "outputs": [
    {
     "name": "stdout",
     "output_type": "stream",
     "text": [
      "Romeo Is Bleeding (1993)\n",
      "True Romance (1993)\n",
      "Escort, The (Scorta, La) (1993)\n",
      "Heaven's Prisoners (1996)\n"
     ]
    }
   ],
   "source": [
    "for i in movie_lists:\n",
    "    print(movies.iloc[i[0]].title)"
   ]
  },
  {
   "cell_type": "code",
   "execution_count": 29,
   "id": "ed441ea1",
   "metadata": {},
   "outputs": [
    {
     "name": "stdout",
     "output_type": "stream",
     "text": [
      "Romeo Is Bleeding (1993) Crime|Thriller 0.9999999999999998\n",
      "True Romance (1993) Crime|Thriller 0.9999999999999998\n",
      "Escort, The (Scorta, La) (1993) Crime|Thriller 0.9999999999999998\n",
      "Heaven's Prisoners (1996) Crime|Thriller 0.9999999999999998\n"
     ]
    }
   ],
   "source": [
    "recommend('True Romance (1993)')"
   ]
  },
  {
   "cell_type": "code",
   "execution_count": 30,
   "id": "c0712ba1",
   "metadata": {},
   "outputs": [],
   "source": [
    "movie_index=movies[movies['genres']=='Adventure|Animation|Children|Comedy|Fantasy']"
   ]
  },
  {
   "cell_type": "code",
   "execution_count": 31,
   "id": "9130dc67",
   "metadata": {},
   "outputs": [
    {
     "data": {
      "text/html": [
       "<div>\n",
       "<style scoped>\n",
       "    .dataframe tbody tr th:only-of-type {\n",
       "        vertical-align: middle;\n",
       "    }\n",
       "\n",
       "    .dataframe tbody tr th {\n",
       "        vertical-align: top;\n",
       "    }\n",
       "\n",
       "    .dataframe thead th {\n",
       "        text-align: right;\n",
       "    }\n",
       "</style>\n",
       "<table border=\"1\" class=\"dataframe\">\n",
       "  <thead>\n",
       "    <tr style=\"text-align: right;\">\n",
       "      <th></th>\n",
       "      <th>movieId</th>\n",
       "      <th>title</th>\n",
       "      <th>genres</th>\n",
       "    </tr>\n",
       "  </thead>\n",
       "  <tbody>\n",
       "    <tr>\n",
       "      <th>0</th>\n",
       "      <td>1</td>\n",
       "      <td>Toy Story (1995)</td>\n",
       "      <td>Adventure|Animation|Children|Comedy|Fantasy</td>\n",
       "    </tr>\n",
       "    <tr>\n",
       "      <th>1706</th>\n",
       "      <td>2294</td>\n",
       "      <td>Antz (1998)</td>\n",
       "      <td>Adventure|Animation|Children|Comedy|Fantasy</td>\n",
       "    </tr>\n",
       "    <tr>\n",
       "      <th>2355</th>\n",
       "      <td>3114</td>\n",
       "      <td>Toy Story 2 (1999)</td>\n",
       "      <td>Adventure|Animation|Children|Comedy|Fantasy</td>\n",
       "    </tr>\n",
       "    <tr>\n",
       "      <th>2809</th>\n",
       "      <td>3754</td>\n",
       "      <td>Adventures of Rocky and Bullwinkle, The (2000)</td>\n",
       "      <td>Adventure|Animation|Children|Comedy|Fantasy</td>\n",
       "    </tr>\n",
       "    <tr>\n",
       "      <th>3000</th>\n",
       "      <td>4016</td>\n",
       "      <td>Emperor's New Groove, The (2000)</td>\n",
       "      <td>Adventure|Animation|Children|Comedy|Fantasy</td>\n",
       "    </tr>\n",
       "    <tr>\n",
       "      <th>3568</th>\n",
       "      <td>4886</td>\n",
       "      <td>Monsters, Inc. (2001)</td>\n",
       "      <td>Adventure|Animation|Children|Comedy|Fantasy</td>\n",
       "    </tr>\n",
       "    <tr>\n",
       "      <th>6194</th>\n",
       "      <td>45074</td>\n",
       "      <td>Wild, The (2006)</td>\n",
       "      <td>Adventure|Animation|Children|Comedy|Fantasy</td>\n",
       "    </tr>\n",
       "    <tr>\n",
       "      <th>6486</th>\n",
       "      <td>53121</td>\n",
       "      <td>Shrek the Third (2007)</td>\n",
       "      <td>Adventure|Animation|Children|Comedy|Fantasy</td>\n",
       "    </tr>\n",
       "    <tr>\n",
       "      <th>6948</th>\n",
       "      <td>65577</td>\n",
       "      <td>Tale of Despereaux, The (2008)</td>\n",
       "      <td>Adventure|Animation|Children|Comedy|Fantasy</td>\n",
       "    </tr>\n",
       "    <tr>\n",
       "      <th>7760</th>\n",
       "      <td>91355</td>\n",
       "      <td>Asterix and the Vikings (Astérix et les Viking...</td>\n",
       "      <td>Adventure|Animation|Children|Comedy|Fantasy</td>\n",
       "    </tr>\n",
       "    <tr>\n",
       "      <th>8219</th>\n",
       "      <td>103755</td>\n",
       "      <td>Turbo (2013)</td>\n",
       "      <td>Adventure|Animation|Children|Comedy|Fantasy</td>\n",
       "    </tr>\n",
       "    <tr>\n",
       "      <th>8927</th>\n",
       "      <td>136016</td>\n",
       "      <td>The Good Dinosaur (2015)</td>\n",
       "      <td>Adventure|Animation|Children|Comedy|Fantasy</td>\n",
       "    </tr>\n",
       "    <tr>\n",
       "      <th>9430</th>\n",
       "      <td>166461</td>\n",
       "      <td>Moana (2016)</td>\n",
       "      <td>Adventure|Animation|Children|Comedy|Fantasy</td>\n",
       "    </tr>\n",
       "  </tbody>\n",
       "</table>\n",
       "</div>"
      ],
      "text/plain": [
       "      movieId                                              title  \\\n",
       "0           1                                   Toy Story (1995)   \n",
       "1706     2294                                        Antz (1998)   \n",
       "2355     3114                                 Toy Story 2 (1999)   \n",
       "2809     3754     Adventures of Rocky and Bullwinkle, The (2000)   \n",
       "3000     4016                   Emperor's New Groove, The (2000)   \n",
       "3568     4886                              Monsters, Inc. (2001)   \n",
       "6194    45074                                   Wild, The (2006)   \n",
       "6486    53121                             Shrek the Third (2007)   \n",
       "6948    65577                     Tale of Despereaux, The (2008)   \n",
       "7760    91355  Asterix and the Vikings (Astérix et les Viking...   \n",
       "8219   103755                                       Turbo (2013)   \n",
       "8927   136016                           The Good Dinosaur (2015)   \n",
       "9430   166461                                       Moana (2016)   \n",
       "\n",
       "                                           genres  \n",
       "0     Adventure|Animation|Children|Comedy|Fantasy  \n",
       "1706  Adventure|Animation|Children|Comedy|Fantasy  \n",
       "2355  Adventure|Animation|Children|Comedy|Fantasy  \n",
       "2809  Adventure|Animation|Children|Comedy|Fantasy  \n",
       "3000  Adventure|Animation|Children|Comedy|Fantasy  \n",
       "3568  Adventure|Animation|Children|Comedy|Fantasy  \n",
       "6194  Adventure|Animation|Children|Comedy|Fantasy  \n",
       "6486  Adventure|Animation|Children|Comedy|Fantasy  \n",
       "6948  Adventure|Animation|Children|Comedy|Fantasy  \n",
       "7760  Adventure|Animation|Children|Comedy|Fantasy  \n",
       "8219  Adventure|Animation|Children|Comedy|Fantasy  \n",
       "8927  Adventure|Animation|Children|Comedy|Fantasy  \n",
       "9430  Adventure|Animation|Children|Comedy|Fantasy  "
      ]
     },
     "execution_count": 31,
     "metadata": {},
     "output_type": "execute_result"
    }
   ],
   "source": [
    "movie_index\n"
   ]
  },
  {
   "cell_type": "code",
   "execution_count": null,
   "id": "1888a3f1",
   "metadata": {},
   "outputs": [],
   "source": []
  },
  {
   "cell_type": "code",
   "execution_count": null,
   "id": "00e5d192",
   "metadata": {},
   "outputs": [],
   "source": []
  }
 ],
 "metadata": {
  "kernelspec": {
   "display_name": "Python 3 (ipykernel)",
   "language": "python",
   "name": "python3"
  },
  "language_info": {
   "codemirror_mode": {
    "name": "ipython",
    "version": 3
   },
   "file_extension": ".py",
   "mimetype": "text/x-python",
   "name": "python",
   "nbconvert_exporter": "python",
   "pygments_lexer": "ipython3",
   "version": "3.9.7"
  }
 },
 "nbformat": 4,
 "nbformat_minor": 5
}
